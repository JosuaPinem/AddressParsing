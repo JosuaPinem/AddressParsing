{
 "cells": [
  {
   "cell_type": "markdown",
   "id": "5420166d",
   "metadata": {},
   "source": [
    "\n",
    "# 🇮🇩 Address NER with IndoBERT — End‑to‑End Notebook\n",
    "\n",
    "Notebook ini membangun model **NER (BIO)** untuk parsing alamat Indonesia menggunakan **Hugging Face** dan **`indobenchmark/indobert-base-p1`**.\n",
    "\n",
    "**Rangka:**\n",
    "1. **Data Preprocessing** — load, validasi, EDA (statistik deskriptif).\n",
    "2. **Splitting Data** — pembagian train/valid/test yang stabil dan representatif.\n",
    "3. **Data Processing & Training** — tokenisasi, label alignment, training dengan `Trainer`, simpan model.\n",
    "4. **Evaluation & Visualization** — metrik `seqeval`, grafik training loss & F1, laporan ringkas.\n",
    "\n",
    "> Catatan: pastikan file dataset JSON kamu (hasil generator) tersedia. Notebook akan mencari otomatis beberapa nama file umum.\n"
   ]
  },
  {
   "cell_type": "code",
   "execution_count": 1,
   "id": "c5d5f713",
   "metadata": {},
   "outputs": [],
   "source": [
    "\n",
    "# %%capture\n",
    "# Jika menjalankan di lingkungan baru (Colab/venv), uncomment baris berikut:\n",
    "# !pip install -q transformers datasets seqeval accelerate matplotlib\n",
    "\n",
    "import os, json, random, math, collections\n",
    "from typing import List, Dict\n",
    "import numpy as np\n",
    "\n",
    "import matplotlib.pyplot as plt\n",
    "\n",
    "from datasets import Dataset, DatasetDict\n",
    "from transformers import (AutoTokenizer, AutoModelForTokenClassification, DataCollatorForTokenClassification,\n",
    "                          TrainingArguments, Trainer, EarlyStoppingCallback)\n",
    "from seqeval.metrics import classification_report, f1_score, precision_score, recall_score\n",
    "from seqeval.scheme import IOB2\n",
    "\n",
    "RANDOM_SEED = 42\n",
    "np.random.seed(RANDOM_SEED)\n",
    "random.seed(RANDOM_SEED)\n",
    "\n",
    "MODEL_NAME = \"indobenchmark/indobert-base-p1\"\n"
   ]
  },
  {
   "cell_type": "markdown",
   "id": "a84b9249",
   "metadata": {},
   "source": [
    "## 1) Data Preprocessing — Load, Validasi, dan EDA"
   ]
  },
  {
   "cell_type": "code",
   "execution_count": 2,
   "id": "4897417f",
   "metadata": {},
   "outputs": [
    {
     "name": "stdout",
     "output_type": "stream",
     "text": [
      "Loaded file: ../dataset/alamat_dataset_aug_sec.json — 2500 rows\n",
      "\n",
      "Statistik dasar:\n",
      "- Jumlah contoh: 2500\n",
      "- Rata-rata panjang token: 11.90 ± 5.64\n",
      "- Min/Max panjang token: 2 / 29\n",
      "\n",
      "10 label teratas:\n",
      "I-JALAN      : 4346\n",
      "O            : 3692\n",
      "B-JALAN      : 2505\n",
      "B-KOTA       : 1777\n",
      "B-PROVINSI   : 1740\n",
      "I-PROVINSI   : 1624\n",
      "B-KELURAHAN  : 1608\n",
      "I-KELURAHAN  : 1596\n",
      "B-KECAMATAN  : 1541\n",
      "I-KECAMATAN  : 1518\n"
     ]
    },
    {
     "data": {
      "image/png": "[encoded data removed]",
      "text/plain": [
       "<Figure size 640x480 with 1 Axes>"
      ]
     },
     "metadata": {},
     "output_type": "display_data"
    },
    {
     "name": "stdout",
     "output_type": "stream",
     "text": [
      "\n",
      "Komponen alamat (jumlah & proporsi):\n",
      "- RT: 1436 (57.4%) | RW: 1432 (57.3%)\n",
      "- Kelurahan: 1608 (64.3%) | Kecamatan: 1540 (61.6%)\n",
      "- Kota: 1775 (71.0%) | Provinsi: 1740 (69.6%)\n",
      "- Kodepos: 1198 (47.9%)\n"
     ]
    }
   ],
   "source": [
    "\n",
    "# Cari file dataset secara otomatis\n",
    "CANDIDATE_FILES = [\n",
    "    \"../dataset/alamat_dataset_aug_sec.json\",  # Lokasi di repo GitHub\n",
    "]\n",
    "\n",
    "data_path = None\n",
    "for f in CANDIDATE_FILES:\n",
    "    if os.path.exists(f):\n",
    "        data_path = f\n",
    "        break\n",
    "\n",
    "if data_path is None:\n",
    "    # Fallback: buat contoh mini jika file tidak ditemukan\n",
    "    data_path = \"mini_sample.json\"\n",
    "    mini = [\n",
    "        {\"id\": 1, \"token\": [\"Jl.\", \"Diponegoro\", \"No.15\", \",\", \"Kel.\", \"Menteng\", \",\", \"Kec.\", \"Menteng\", \",\", \"Kota\", \"Jakarta\", \"Pusat\", \",\", \"DKI\", \"Jakarta\"], \n",
    "         \"labels\": [\"B-JALAN\",\"I-JALAN\",\"I-JALAN\",\"O\",\"B-KELURAHAN\",\"I-KELURAHAN\",\"O\",\"B-KECAMATAN\",\"I-KECAMATAN\",\"O\",\"B-KOTA\",\"I-KOTA\",\"I-KOTA\",\"O\",\"B-PROVINSI\",\"I-PROVINSI\"]},\n",
    "        {\"id\": 2, \"token\": [\"Gg.\", \"Mawar\", \"No.7\", \"RT.\", \"01\", \"/\", \"RW.\", \"02\", \",\", \"Kel.\", \"Sukajadi\", \",\", \"Kec.\", \"Sukajadi\", \",\", \"Kota\", \"Pekanbaru\", \",\", \"Riau\"], \n",
    "         \"labels\": [\"B-JALAN\",\"I-JALAN\",\"I-JALAN\",\"B-RT\",\"I-RT\",\"O\",\"B-RW\",\"I-RW\",\"O\",\"B-KELURAHAN\",\"I-KELURAHAN\",\"O\",\"B-KECAMATAN\",\"I-KECAMATAN\",\"O\",\"B-KOTA\",\"I-KOTA\",\"B-PROVINSI\"]}\n",
    "    ]\n",
    "    with open(data_path, \"w\", encoding=\"utf8\") as f:\n",
    "        json.dump(mini, f, ensure_ascii=False, indent=2)\n",
    "\n",
    "with open(data_path, \"r\", encoding=\"utf8\") as f:\n",
    "    raw_data = json.load(f)\n",
    "\n",
    "print(f\"Loaded file: {data_path} — {len(raw_data)} rows\")\n",
    "\n",
    "# Validasi struktur minimal\n",
    "assert all(isinstance(r, dict) and \"token\" in r and \"labels\" in r for r in raw_data)\n",
    "\n",
    "# EDA ringkas\n",
    "num_examples = len(raw_data)\n",
    "token_lens = [len(r[\"token\"]) for r in raw_data]\n",
    "label_counts = collections.Counter([lab for r in raw_data for lab in r[\"labels\"]])\n",
    "entity_spans = collections.Counter([lab.split('-')[-1] for lab in label_counts if lab != \"O\"])\n",
    "\n",
    "print(\"\\nStatistik dasar:\")\n",
    "print(f\"- Jumlah contoh: {num_examples}\")\n",
    "print(f\"- Rata-rata panjang token: {np.mean(token_lens):.2f} ± {np.std(token_lens):.2f}\")\n",
    "print(f\"- Min/Max panjang token: {np.min(token_lens)} / {np.max(token_lens)}\")\n",
    "\n",
    "print(\"\\n10 label teratas:\")\n",
    "for k, v in label_counts.most_common(10):\n",
    "    print(f\"{k:<12} : {v}\")\n",
    "\n",
    "# Visualisasi panjang sequence\n",
    "plt.figure()\n",
    "plt.hist(token_lens, bins=30)\n",
    "plt.title(\"Distribusi Panjang Token per Alamat\")\n",
    "plt.xlabel(\"Jumlah token\")\n",
    "plt.ylabel(\"Frekuensi\")\n",
    "plt.show()\n",
    "\n",
    "# Info khusus: proporsi yang memiliki RT/RW, Kel/KeC, Kota, Prov\n",
    "def has_any(labels: List[str], prefix: str) -> bool:\n",
    "    return any(l.startswith(prefix) for l in labels)\n",
    "\n",
    "has_rt = sum(has_any(r[\"labels\"], \"B-RT\") for r in raw_data)\n",
    "has_rw = sum(has_any(r[\"labels\"], \"B-RW\") for r in raw_data)\n",
    "has_kel = sum(has_any(r[\"labels\"], \"B-KELURAHAN\") for r in raw_data)\n",
    "has_kec = sum(has_any(r[\"labels\"], \"B-KECAMATAN\") for r in raw_data)\n",
    "has_kota = sum(has_any(r[\"labels\"], \"B-KOTA\") for r in raw_data)\n",
    "has_prov = sum(has_any(r[\"labels\"], \"B-PROVINSI\") for r in raw_data)\n",
    "has_kodepos = sum(has_any(r[\"labels\"], \"B-KODEPOS\") for r in raw_data)\n",
    "\n",
    "print(\"\\nKomponen alamat (jumlah & proporsi):\")\n",
    "print(f\"- RT: {has_rt} ({has_rt/num_examples:.1%}) | RW: {has_rw} ({has_rw/num_examples:.1%})\")\n",
    "print(f\"- Kelurahan: {has_kel} ({has_kel/num_examples:.1%}) | Kecamatan: {has_kec} ({has_kec/num_examples:.1%})\")\n",
    "print(f\"- Kota: {has_kota} ({has_kota/num_examples:.1%}) | Provinsi: {has_prov} ({has_prov/num_examples:.1%})\")\n",
    "print(f\"- Kodepos: {has_kodepos} ({has_kodepos/num_examples:.1%})\")\n"
   ]
  },
  {
   "cell_type": "markdown",
   "id": "45daf7e5",
   "metadata": {},
   "source": [
    "\n",
    "## 2) Splitting Data — Train/Validation/Test\n",
    "\n",
    "Strategi: **80/10/10** dengan seed tetap agar reprodusibel. Untuk NER, stratifikasi sempurna sulit (karena sekuens), \n",
    "tapi kita jaga **distribusi panjang** dan keberadaan komponen alamat tetap mirip antar split dengan **shuffling terkontrol**.\n"
   ]
  },
  {
   "cell_type": "code",
   "execution_count": 3,
   "id": "702368a1",
   "metadata": {},
   "outputs": [],
   "source": [
    "for i, row in enumerate(raw_data):\n",
    "    if len(row[\"token\"]) != len(row[\"labels\"]):\n",
    "        print(f\"Mismatch at id={row.get('id', i)}: tokens={len(row['token'])}, labels={len(row['labels'])}\")\n"
   ]
  },
  {
   "cell_type": "code",
   "execution_count": 4,
   "id": "5d629418",
   "metadata": {},
   "outputs": [
    {
     "name": "stdout",
     "output_type": "stream",
     "text": [
      "Split sizes -> train: 2000, val: 250, test: 250\n"
     ]
    }
   ],
   "source": [
    "\n",
    "# Shuffle dengan seed tetap\n",
    "idx = list(range(len(raw_data)))\n",
    "random.shuffle(idx)\n",
    "\n",
    "train_end = int(0.8 * len(idx))\n",
    "val_end = int(0.9 * len(idx))\n",
    "\n",
    "train_idx = idx[:train_end]\n",
    "val_idx = idx[train_end:val_end]\n",
    "test_idx = idx[val_end:]\n",
    "\n",
    "def select(data, indices):\n",
    "    return [data[i] for i in indices]\n",
    "\n",
    "train_data = select(raw_data, train_idx)\n",
    "val_data = select(raw_data, val_idx)\n",
    "test_data = select(raw_data, test_idx)\n",
    "\n",
    "print(f\"Split sizes -> train: {len(train_data)}, val: {len(val_data)}, test: {len(test_data)}\")\n"
   ]
  },
  {
   "cell_type": "markdown",
   "id": "9320b427",
   "metadata": {},
   "source": [
    "\n",
    "## 3) Data Processing & Training (Hugging Face)\n",
    "\n",
    "- Tokenizer/model: **`indobenchmark/indobert-base-p1`**\n",
    "- Batch size: 16 (ubah jika GPU/VRAM terbatas)\n",
    "- LR: 2e-5\n",
    "- **Epochs rekomendasi**: `6` dengan **early stopping (patience=2)** → mencegah overfitting pada 1200 data.\n",
    "- Simpan model terbaik berdasarkan `eval_f1`.\n"
   ]
  },
  {
   "cell_type": "code",
   "execution_count": 5,
   "id": "1b090d2d",
   "metadata": {},
   "outputs": [
    {
     "name": "stdout",
     "output_type": "stream",
     "text": [
      "Labels: ['O', 'B-JALAN', 'B-KECAMATAN', 'B-KELURAHAN', 'B-KODEPOS', 'B-KOTA', 'B-PROVINSI', 'B-RT', 'B-RW', 'I-JALAN', 'I-KECAMATAN', 'I-KELURAHAN', 'I-KOTA', 'I-PROVINSI', 'I-RT', 'I-RW']\n",
      "num_labels: 16\n"
     ]
    },
    {
     "data": {
      "application/vnd.jupyter.widget-view+json": {
       "model_id": "caf4c1ee795347efa851e06b509ab0fb",
       "version_major": 2,
       "version_minor": 0
      },
      "text/plain": [
       "Map:   0%|          | 0/2000 [00:00<?, ? examples/s]"
      ]
     },
     "metadata": {},
     "output_type": "display_data"
    },
    {
     "name": "stderr",
     "output_type": "stream",
     "text": [
      "Asking to truncate to max_length but no maximum length is provided and the model has no predefined maximum length. Default to no truncation.\n"
     ]
    },
    {
     "data": {
      "application/vnd.jupyter.widget-view+json": {
       "model_id": "f971d31f0ae64c5e83e152e29293f455",
       "version_major": 2,
       "version_minor": 0
      },
      "text/plain": [
       "Map:   0%|          | 0/250 [00:00<?, ? examples/s]"
      ]
     },
     "metadata": {},
     "output_type": "display_data"
    },
    {
     "data": {
      "application/vnd.jupyter.widget-view+json": {
       "model_id": "36a5d8851b9443c8a95e2ada92accdfe",
       "version_major": 2,
       "version_minor": 0
      },
      "text/plain": [
       "Map:   0%|          | 0/250 [00:00<?, ? examples/s]"
      ]
     },
     "metadata": {},
     "output_type": "display_data"
    },
    {
     "name": "stderr",
     "output_type": "stream",
     "text": [
      "Some weights of BertForTokenClassification were not initialized from the model checkpoint at indobenchmark/indobert-base-p1 and are newly initialized: ['classifier.bias', 'classifier.weight']\n",
      "You should probably TRAIN this model on a down-stream task to be able to use it for predictions and inference.\n",
      "/var/folders/68/clbgzjwd7vgfrhngp67ysmqc0000gn/T/ipykernel_4344/571082985.py:109: FutureWarning: `tokenizer` is deprecated and will be removed in version 5.0.0 for `Trainer.__init__`. Use `processing_class` instead.\n",
      "  trainer = Trainer(\n",
      "/Users/nusanet/Documents/addressParser/.venv/lib/python3.10/site-packages/torch/utils/data/dataloader.py:684: UserWarning: 'pin_memory' argument is set as true but not supported on MPS now, then device pinned memory won't be used.\n",
      "  warnings.warn(warn_msg)\n"
     ]
    },
    {
     "data": {
      "text/html": [
       "\n",
       "    <div>\n",
       "      \n",
       "      <progress value='315' max='378' style='width:300px; height:20px; vertical-align: middle;'></progress>\n",
       "      [315/378 04:31 < 00:54, 1.15 it/s, Epoch 5/6]\n",
       "    </div>\n",
       "    <table border=\"1\" class=\"dataframe\">\n",
       "  <thead>\n",
       " <tr style=\"text-align: left;\">\n",
       "      <th>Epoch</th>\n",
       "      <th>Training Loss</th>\n",
       "      <th>Validation Loss</th>\n",
       "      <th>Precision</th>\n",
       "      <th>Recall</th>\n",
       "      <th>F1</th>\n",
       "    </tr>\n",
       "  </thead>\n",
       "  <tbody>\n",
       "    <tr>\n",
       "      <td>1</td>\n",
       "      <td>0.453000</td>\n",
       "      <td>0.085376</td>\n",
       "      <td>0.970549</td>\n",
       "      <td>0.975118</td>\n",
       "      <td>0.972828</td>\n",
       "    </tr>\n",
       "    <tr>\n",
       "      <td>2</td>\n",
       "      <td>0.027000</td>\n",
       "      <td>0.072053</td>\n",
       "      <td>0.972575</td>\n",
       "      <td>0.977808</td>\n",
       "      <td>0.975184</td>\n",
       "    </tr>\n",
       "    <tr>\n",
       "      <td>3</td>\n",
       "      <td>0.024500</td>\n",
       "      <td>0.069081</td>\n",
       "      <td>0.979195</td>\n",
       "      <td>0.981170</td>\n",
       "      <td>0.980181</td>\n",
       "    </tr>\n",
       "    <tr>\n",
       "      <td>4</td>\n",
       "      <td>0.008000</td>\n",
       "      <td>0.058149</td>\n",
       "      <td>0.975904</td>\n",
       "      <td>0.980498</td>\n",
       "      <td>0.978195</td>\n",
       "    </tr>\n",
       "    <tr>\n",
       "      <td>5</td>\n",
       "      <td>0.006900</td>\n",
       "      <td>0.065501</td>\n",
       "      <td>0.975920</td>\n",
       "      <td>0.981170</td>\n",
       "      <td>0.978538</td>\n",
       "    </tr>\n",
       "  </tbody>\n",
       "</table><p>"
      ],
      "text/plain": [
       "<IPython.core.display.HTML object>"
      ]
     },
     "metadata": {},
     "output_type": "display_data"
    },
    {
     "name": "stderr",
     "output_type": "stream",
     "text": [
      "/Users/nusanet/Documents/addressParser/.venv/lib/python3.10/site-packages/torch/utils/data/dataloader.py:684: UserWarning: 'pin_memory' argument is set as true but not supported on MPS now, then device pinned memory won't be used.\n",
      "  warnings.warn(warn_msg)\n",
      "/Users/nusanet/Documents/addressParser/.venv/lib/python3.10/site-packages/torch/utils/data/dataloader.py:684: UserWarning: 'pin_memory' argument is set as true but not supported on MPS now, then device pinned memory won't be used.\n",
      "  warnings.warn(warn_msg)\n",
      "/Users/nusanet/Documents/addressParser/.venv/lib/python3.10/site-packages/torch/utils/data/dataloader.py:684: UserWarning: 'pin_memory' argument is set as true but not supported on MPS now, then device pinned memory won't be used.\n",
      "  warnings.warn(warn_msg)\n",
      "/Users/nusanet/Documents/addressParser/.venv/lib/python3.10/site-packages/torch/utils/data/dataloader.py:684: UserWarning: 'pin_memory' argument is set as true but not supported on MPS now, then device pinned memory won't be used.\n",
      "  warnings.warn(warn_msg)\n"
     ]
    },
    {
     "name": "stdout",
     "output_type": "stream",
     "text": [
      "Model saved to: model4/best\n"
     ]
    }
   ],
   "source": [
    "\n",
    "# Siapkan label set dan mapping\n",
    "all_labels = sorted(list(set(l for r in raw_data for l in r[\"labels\"])))\n",
    "# Pastikan konsistensi skema BIO\n",
    "if \"O\" in all_labels:\n",
    "    # biarkan O paling awal hanya untuk kenyamanan display (opsional)\n",
    "    all_labels.remove(\"O\")\n",
    "    all_labels = [\"O\"] + all_labels\n",
    "\n",
    "label2id = {l:i for i,l in enumerate(all_labels)}\n",
    "id2label = {i:l for l,i in label2id.items()}\n",
    "\n",
    "print(\"Labels:\", all_labels)\n",
    "print(\"num_labels:\", len(all_labels))\n",
    "\n",
    "# Helper: convert list-of-dicts to HF Dataset\n",
    "def to_hf_dataset(rows):\n",
    "    return Dataset.from_dict({\n",
    "        \"id\": [r.get(\"id\", -1) for r in rows],\n",
    "        \"tokens\": [r[\"token\"] for r in rows],\n",
    "        \"ner_tags\": [[label2id[l] for l in r[\"labels\"]] for r in rows],\n",
    "    })\n",
    "\n",
    "ds = DatasetDict({\n",
    "    \"train\": to_hf_dataset(train_data),\n",
    "    \"validation\": to_hf_dataset(val_data),\n",
    "    \"test\": to_hf_dataset(test_data),\n",
    "})\n",
    "\n",
    "tokenizer = AutoTokenizer.from_pretrained(MODEL_NAME)\n",
    "\n",
    "# Align labels dengan wordpiece tokenizer\n",
    "def tokenize_and_align_labels(examples):\n",
    "    tokenized = tokenizer(examples[\"tokens\"], truncation=True, is_split_into_words=True)\n",
    "    aligned_labels = []\n",
    "    for i, labels in enumerate(examples[\"ner_tags\"]):\n",
    "        word_ids = tokenized.word_ids(batch_index=i)\n",
    "        previous_word_idx = None\n",
    "        label_ids = []\n",
    "        for word_idx in word_ids:\n",
    "            if word_idx is None:\n",
    "                label_ids.append(-100)  # diabaikan loss\n",
    "            elif word_idx != previous_word_idx:\n",
    "                label_ids.append(labels[word_idx])\n",
    "            else:\n",
    "                # untuk subword lanjutan → gunakan skema I-*\n",
    "                lab_id = labels[word_idx]\n",
    "                lab = id2label[lab_id]\n",
    "                if lab == \"O\":\n",
    "                    label_ids.append(lab_id)\n",
    "                else:\n",
    "                    # paksa ke I- untuk subword lanjutan\n",
    "                    ent = lab.split(\"-\", 1)[-1]\n",
    "                    label_ids.append(label2id.get(\"I-\" + ent, lab_id))\n",
    "            previous_word_idx = word_idx\n",
    "        aligned_labels.append(label_ids)\n",
    "    tokenized[\"labels\"] = aligned_labels\n",
    "    return tokenized\n",
    "\n",
    "tokenized_ds = ds.map(tokenize_and_align_labels, batched=True)\n",
    "\n",
    "data_collator = DataCollatorForTokenClassification(tokenizer=tokenizer)\n",
    "model = AutoModelForTokenClassification.from_pretrained(\n",
    "    MODEL_NAME,\n",
    "    num_labels=len(all_labels),\n",
    "    id2label=id2label,\n",
    "    label2id=label2id\n",
    ")\n",
    "\n",
    "metric_best = \"f1\"\n",
    "\n",
    "args = TrainingArguments(\n",
    "    output_dir=\"indoaddr_ner_model\",\n",
    "    eval_strategy=\"epoch\",\n",
    "    save_strategy=\"epoch\",\n",
    "    learning_rate=2e-5,\n",
    "    per_device_train_batch_size=32,\n",
    "    per_device_eval_batch_size=32,\n",
    "    num_train_epochs=6,\n",
    "    weight_decay=0.01,\n",
    "    load_best_model_at_end=True,\n",
    "    metric_for_best_model=metric_best,\n",
    "    report_to=\"none\",\n",
    "    seed=RANDOM_SEED,\n",
    "    logging_steps=50\n",
    ")\n",
    "\n",
    "# Metrik seqeval\n",
    "def compute_metrics(p):\n",
    "    preds, labels = p\n",
    "    preds = np.argmax(preds, axis=2)\n",
    "    true_predictions = []\n",
    "    true_labels = []\n",
    "    for pred, lab in zip(preds, labels):\n",
    "        curr_pred = []\n",
    "        curr_lab = []\n",
    "        for p_i, l_i in zip(pred, lab):\n",
    "            if l_i == -100:\n",
    "                continue\n",
    "            curr_pred.append(id2label[p_i])\n",
    "            curr_lab.append(id2label[l_i])\n",
    "        true_predictions.append(curr_pred)\n",
    "        true_labels.append(curr_lab)\n",
    "\n",
    "    f1 = f1_score(true_labels, true_predictions, scheme=IOB2)\n",
    "    prec = precision_score(true_labels, true_predictions, scheme=IOB2)\n",
    "    rec = recall_score(true_labels, true_predictions, scheme=IOB2)\n",
    "    return {\"precision\": prec, \"recall\": rec, \"f1\": f1}\n",
    "\n",
    "trainer = Trainer(\n",
    "    model=model,\n",
    "    args=args,\n",
    "    train_dataset=tokenized_ds[\"train\"],\n",
    "    eval_dataset=tokenized_ds[\"validation\"],\n",
    "    tokenizer=tokenizer,\n",
    "    data_collator=data_collator,\n",
    "    compute_metrics=compute_metrics,\n",
    "    callbacks=[EarlyStoppingCallback(early_stopping_patience=2)]\n",
    ")\n",
    "\n",
    "train_result = trainer.train()\n",
    "trainer.save_model(\"model6/best\")  # simpan model terbaik\n",
    "tokenizer.save_pretrained(\"model6/best\")\n",
    "print(\"Model saved to: model4/best\")\n"
   ]
  },
  {
   "cell_type": "markdown",
   "id": "e994428a",
   "metadata": {},
   "source": [
    "\n",
    "## 4) Evaluation & Visualization\n",
    "\n",
    "Kita evaluasi di **test set** dan tampilkan:\n",
    "- **Classification report** (precision / recall / F1 per label)\n",
    "- **Grafik training & eval loss per epoch**\n",
    "- **Grafik F1 validasi per epoch**\n"
   ]
  },
  {
   "cell_type": "code",
   "execution_count": 8,
   "id": "28d443c9",
   "metadata": {},
   "outputs": [
    {
     "data": {
      "text/html": [],
      "text/plain": [
       "<IPython.core.display.HTML object>"
      ]
     },
     "metadata": {},
     "output_type": "display_data"
    },
    {
     "name": "stdout",
     "output_type": "stream",
     "text": [
      "Test metrics: {'eval_loss': 0.00797336082905531, 'eval_precision': 0.9914698162729659, 'eval_recall': 0.9940789473684211, 'eval_f1': 0.992772667542707, 'eval_runtime': 2.7579, 'eval_samples_per_second': 90.65, 'eval_steps_per_second': 2.901, 'epoch': 5.0}\n",
      "\n",
      "Classification Report (seqeval):\n",
      "              precision    recall  f1-score   support\n",
      "\n",
      "       JALAN       1.00      1.00      1.00       250\n",
      "   KECAMATAN       0.96      0.97      0.97       157\n",
      "   KELURAHAN       0.98      0.98      0.98       166\n",
      "     KODEPOS       1.00      1.00      1.00       279\n",
      "        KOTA       0.98      1.00      0.99       188\n",
      "    PROVINSI       1.00      1.00      1.00       187\n",
      "          RT       1.00      1.00      1.00       147\n",
      "          RW       1.00      1.00      1.00       146\n",
      "\n",
      "   micro avg       0.99      0.99      0.99      1520\n",
      "   macro avg       0.99      0.99      0.99      1520\n",
      "weighted avg       0.99      0.99      0.99      1520\n",
      "\n"
     ]
    },
    {
     "data": {
      "image/png": "[encoded data removed]",
      "text/plain": [
       "<Figure size 640x480 with 1 Axes>"
      ]
     },
     "metadata": {},
     "output_type": "display_data"
    },
    {
     "data": {
      "image/png": "[encoded data removed]",
      "text/plain": [
       "<Figure size 640x480 with 1 Axes>"
      ]
     },
     "metadata": {},
     "output_type": "display_data"
    },
    {
     "data": {
      "image/png": "[encoded data removed]",
      "text/plain": [
       "<Figure size 640x480 with 1 Axes>"
      ]
     },
     "metadata": {},
     "output_type": "display_data"
    }
   ],
   "source": [
    "\n",
    "# Evaluasi test set\n",
    "test_metrics = trainer.evaluate(tokenized_ds[\"test\"])\n",
    "print(\"Test metrics:\", test_metrics)\n",
    "\n",
    "# Classification report (per label)\n",
    "preds_raw, labels_raw, _ = trainer.predict(tokenized_ds[\"test\"])\n",
    "pred_ids = np.argmax(preds_raw, axis=-1)\n",
    "\n",
    "true_predictions = []\n",
    "true_labels = []\n",
    "for pred, lab in zip(pred_ids, labels_raw):\n",
    "    curr_pred, curr_lab = [], []\n",
    "    for p_i, l_i in zip(pred, lab):\n",
    "        if l_i == -100:\n",
    "            continue\n",
    "        curr_pred.append(id2label[p_i])\n",
    "        curr_lab.append(id2label[l_i])\n",
    "    true_predictions.append(curr_pred)\n",
    "    true_labels.append(curr_lab)\n",
    "\n",
    "print(\"\\nClassification Report (seqeval):\")\n",
    "print(classification_report(true_labels, true_predictions, scheme=IOB2))\n",
    "\n",
    "# Ambil history training dari trainer.state.log_history\n",
    "logs = trainer.state.log_history\n",
    "# Ekstrak loss/eval stats per epoch\n",
    "epochs = []\n",
    "train_loss = []\n",
    "eval_loss = []\n",
    "eval_f1 = []\n",
    "\n",
    "for rec in logs:\n",
    "    if \"epoch\" in rec:\n",
    "        ep = rec[\"epoch\"]\n",
    "        if \"loss\" in rec:\n",
    "            epochs.append(ep)\n",
    "            train_loss.append(rec[\"loss\"])\n",
    "        if \"eval_loss\" in rec:\n",
    "            eval_loss.append(rec[\"eval_loss\"])\n",
    "        if \"eval_f1\" in rec:\n",
    "            eval_f1.append(rec[\"eval_f1\"])\n",
    "\n",
    "# Plot training loss\n",
    "plt.figure()\n",
    "plt.plot(epochs[:len(train_loss)], train_loss, marker=\"o\")\n",
    "plt.title(\"Training Loss per Epoch\")\n",
    "plt.xlabel(\"Epoch\")\n",
    "plt.ylabel(\"Loss\")\n",
    "plt.grid(True)\n",
    "plt.show()\n",
    "\n",
    "# Plot eval loss\n",
    "epochs = list(range(1, len(eval_loss) + 1))  # Membuat epochs sesuai dengan panjang eval_loss\n",
    "plt.plot(epochs, eval_loss, marker=\"o\")\n",
    "plt.title(\"Validation Loss per Epoch\")\n",
    "plt.xlabel(\"Epoch\")\n",
    "plt.ylabel(\"Loss\")\n",
    "plt.grid(True)\n",
    "plt.show()\n",
    "\n",
    "\n",
    "# Plot eval F1\n",
    "plt.figure()\n",
    "plt.plot(epochs[:len(eval_f1)], eval_f1, marker=\"o\")\n",
    "plt.title(\"Validation F1 per Epoch\")\n",
    "plt.xlabel(\"Epoch\")\n",
    "plt.ylabel(\"F1\")\n",
    "plt.grid(True)\n",
    "plt.show()\n"
   ]
  }
 ],
 "metadata": {
  "kernelspec": {
   "display_name": ".venv",
   "language": "python",
   "name": "python3"
  },
  "language_info": {
   "codemirror_mode": {
    "name": "ipython",
    "version": 3
   },
   "file_extension": ".py",
   "mimetype": "text/x-python",
   "name": "python",
   "nbconvert_exporter": "python",
   "pygments_lexer": "ipython3",
   "version": "3.10.18"
  }
 },
 "nbformat": 4,
 "nbformat_minor": 5
}
